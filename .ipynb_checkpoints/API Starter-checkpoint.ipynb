{
 "cells": [
  {
   "cell_type": "code",
   "execution_count": 25,
   "source": [
    "import pandas as pd\r\n",
    "from sqlalchemy import create_engine\r\n",
    "import psycopg2\r\n",
    "\r\n",
    "engine = create_engine('sqlite://', echo=False)\r\n",
    "\r\n",
    "path = \"~/datacode/Data_Olympics_proj_2/Data_Sets/Summer Olympics Medals 1976-2008/Summer-Olympic-medals-1976-to-2008.csv\"\r\n",
    "Olympic_big_df = pd.read_csv(path, encoding ='latin1')\r\n",
    "\r\n",
    "small_df = Olympic_big_df[['City', 'Year']]\r\n",
    "small_df = small_df.dropna()\r\n",
    "\r\n",
    "small_df.to_csv('../Output/host_city.csv')\r\n",
    "# small_df.to_sql('host_city', con=engine)\r\n",
    "# engine.execute('SELECT * FROM host_city').fetchall()\r\n",
    "\r\n",
    "\r\n",
    "\r\n",
    "\r\n",
    "\r\n"
   ],
   "outputs": [],
   "metadata": {}
  },
  {
   "cell_type": "code",
   "execution_count": null,
   "source": [],
   "outputs": [],
   "metadata": {}
  }
 ],
 "metadata": {
  "language_info": {
   "name": "python",
   "version": "3.6.13",
   "mimetype": "text/x-python",
   "codemirror_mode": {
    "name": "ipython",
    "version": 3
   },
   "pygments_lexer": "ipython3",
   "nbconvert_exporter": "python",
   "file_extension": ".py"
  },
  "kernelspec": {
   "name": "python3",
   "display_name": "Python 3.6.13 64-bit ('PythonData': conda)"
  },
  "interpreter": {
   "hash": "0327571a0e02de7e7be28e9010f38975c00fce4b61e81bd304d8e7d141e76b4c"
  }
 },
 "nbformat": 4,
 "nbformat_minor": 4
}